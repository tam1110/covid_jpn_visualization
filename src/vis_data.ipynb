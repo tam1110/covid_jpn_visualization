{
 "cells": [
  {
   "cell_type": "code",
   "execution_count": 54,
   "metadata": {},
   "outputs": [],
   "source": [
    "import pandas as pd\n",
    "import numpy as np\n",
    "import datetime\n",
    "from matplotlib import pyplot as plt\n",
    "import json\n",
    "import time\n",
    "import synerex_harmovis as sx"
   ]
  },
  {
   "cell_type": "code",
   "execution_count": 84,
   "metadata": {},
   "outputs": [],
   "source": [
    "df = pd.read_csv(\"../data/covid_jpn_prefecture.csv\")\n",
    "df = df.fillna(0)"
   ]
  },
  {
   "cell_type": "code",
   "execution_count": 57,
   "metadata": {},
   "outputs": [
    {
     "data": {
      "text/html": [
       "<div>\n",
       "<style scoped>\n",
       "    .dataframe tbody tr th:only-of-type {\n",
       "        vertical-align: middle;\n",
       "    }\n",
       "\n",
       "    .dataframe tbody tr th {\n",
       "        vertical-align: top;\n",
       "    }\n",
       "\n",
       "    .dataframe thead th {\n",
       "        text-align: right;\n",
       "    }\n",
       "</style>\n",
       "<table border=\"1\" class=\"dataframe\">\n",
       "  <thead>\n",
       "    <tr style=\"text-align: right;\">\n",
       "      <th></th>\n",
       "      <th>Date</th>\n",
       "      <th>Prefecture</th>\n",
       "      <th>Positive</th>\n",
       "      <th>Tested</th>\n",
       "      <th>Discharged</th>\n",
       "      <th>Fatal</th>\n",
       "      <th>Hosp_require</th>\n",
       "      <th>Hosp_severe</th>\n",
       "    </tr>\n",
       "  </thead>\n",
       "  <tbody>\n",
       "    <tr>\n",
       "      <th>0</th>\n",
       "      <td>2020-03-18</td>\n",
       "      <td>Hokkaido</td>\n",
       "      <td>154</td>\n",
       "      <td>1587.0</td>\n",
       "      <td>69.0</td>\n",
       "      <td>7.0</td>\n",
       "      <td>0.0</td>\n",
       "      <td>0.0</td>\n",
       "    </tr>\n",
       "    <tr>\n",
       "      <th>1</th>\n",
       "      <td>2020-03-18</td>\n",
       "      <td>Aomori</td>\n",
       "      <td>0</td>\n",
       "      <td>75.0</td>\n",
       "      <td>0.0</td>\n",
       "      <td>0.0</td>\n",
       "      <td>0.0</td>\n",
       "      <td>0.0</td>\n",
       "    </tr>\n",
       "    <tr>\n",
       "      <th>2</th>\n",
       "      <td>2020-03-18</td>\n",
       "      <td>Iwate</td>\n",
       "      <td>0</td>\n",
       "      <td>24.0</td>\n",
       "      <td>0.0</td>\n",
       "      <td>0.0</td>\n",
       "      <td>0.0</td>\n",
       "      <td>0.0</td>\n",
       "    </tr>\n",
       "    <tr>\n",
       "      <th>3</th>\n",
       "      <td>2020-03-18</td>\n",
       "      <td>Miyagi</td>\n",
       "      <td>1</td>\n",
       "      <td>138.0</td>\n",
       "      <td>1.0</td>\n",
       "      <td>0.0</td>\n",
       "      <td>0.0</td>\n",
       "      <td>0.0</td>\n",
       "    </tr>\n",
       "    <tr>\n",
       "      <th>4</th>\n",
       "      <td>2020-03-18</td>\n",
       "      <td>Akita</td>\n",
       "      <td>2</td>\n",
       "      <td>109.0</td>\n",
       "      <td>1.0</td>\n",
       "      <td>0.0</td>\n",
       "      <td>0.0</td>\n",
       "      <td>0.0</td>\n",
       "    </tr>\n",
       "    <tr>\n",
       "      <th>...</th>\n",
       "      <td>...</td>\n",
       "      <td>...</td>\n",
       "      <td>...</td>\n",
       "      <td>...</td>\n",
       "      <td>...</td>\n",
       "      <td>...</td>\n",
       "      <td>...</td>\n",
       "      <td>...</td>\n",
       "    </tr>\n",
       "    <tr>\n",
       "      <th>22555</th>\n",
       "      <td>2021-07-10</td>\n",
       "      <td>Kumamoto</td>\n",
       "      <td>6495</td>\n",
       "      <td>82501.0</td>\n",
       "      <td>6349.0</td>\n",
       "      <td>119.0</td>\n",
       "      <td>27.0</td>\n",
       "      <td>1.0</td>\n",
       "    </tr>\n",
       "    <tr>\n",
       "      <th>22556</th>\n",
       "      <td>2021-07-10</td>\n",
       "      <td>Oita</td>\n",
       "      <td>3504</td>\n",
       "      <td>174245.0</td>\n",
       "      <td>3422.0</td>\n",
       "      <td>64.0</td>\n",
       "      <td>18.0</td>\n",
       "      <td>0.0</td>\n",
       "    </tr>\n",
       "    <tr>\n",
       "      <th>22557</th>\n",
       "      <td>2021-07-10</td>\n",
       "      <td>Miyazaki</td>\n",
       "      <td>3107</td>\n",
       "      <td>44740.0</td>\n",
       "      <td>3048.0</td>\n",
       "      <td>27.0</td>\n",
       "      <td>19.0</td>\n",
       "      <td>0.0</td>\n",
       "    </tr>\n",
       "    <tr>\n",
       "      <th>22558</th>\n",
       "      <td>2021-07-10</td>\n",
       "      <td>Kagoshima</td>\n",
       "      <td>3731</td>\n",
       "      <td>113578.0</td>\n",
       "      <td>3666.0</td>\n",
       "      <td>39.0</td>\n",
       "      <td>61.0</td>\n",
       "      <td>1.0</td>\n",
       "    </tr>\n",
       "    <tr>\n",
       "      <th>22559</th>\n",
       "      <td>2021-07-10</td>\n",
       "      <td>Okinawa</td>\n",
       "      <td>21319</td>\n",
       "      <td>258879.0</td>\n",
       "      <td>20451.0</td>\n",
       "      <td>206.0</td>\n",
       "      <td>668.0</td>\n",
       "      <td>43.0</td>\n",
       "    </tr>\n",
       "  </tbody>\n",
       "</table>\n",
       "<p>22560 rows × 8 columns</p>\n",
       "</div>"
      ],
      "text/plain": [
       "             Date Prefecture  Positive    Tested  Discharged  Fatal  \\\n",
       "0      2020-03-18   Hokkaido       154    1587.0        69.0    7.0   \n",
       "1      2020-03-18     Aomori         0      75.0         0.0    0.0   \n",
       "2      2020-03-18      Iwate         0      24.0         0.0    0.0   \n",
       "3      2020-03-18     Miyagi         1     138.0         1.0    0.0   \n",
       "4      2020-03-18      Akita         2     109.0         1.0    0.0   \n",
       "...           ...        ...       ...       ...         ...    ...   \n",
       "22555  2021-07-10   Kumamoto      6495   82501.0      6349.0  119.0   \n",
       "22556  2021-07-10       Oita      3504  174245.0      3422.0   64.0   \n",
       "22557  2021-07-10   Miyazaki      3107   44740.0      3048.0   27.0   \n",
       "22558  2021-07-10  Kagoshima      3731  113578.0      3666.0   39.0   \n",
       "22559  2021-07-10    Okinawa     21319  258879.0     20451.0  206.0   \n",
       "\n",
       "       Hosp_require  Hosp_severe  \n",
       "0               0.0          0.0  \n",
       "1               0.0          0.0  \n",
       "2               0.0          0.0  \n",
       "3               0.0          0.0  \n",
       "4               0.0          0.0  \n",
       "...             ...          ...  \n",
       "22555          27.0          1.0  \n",
       "22556          18.0          0.0  \n",
       "22557          19.0          0.0  \n",
       "22558          61.0          1.0  \n",
       "22559         668.0         43.0  \n",
       "\n",
       "[22560 rows x 8 columns]"
      ]
     },
     "execution_count": 57,
     "metadata": {},
     "output_type": "execute_result"
    }
   ],
   "source": [
    "df"
   ]
  },
  {
   "cell_type": "code",
   "execution_count": 85,
   "metadata": {},
   "outputs": [],
   "source": [
    "hokkaido_df = df[df[\"Prefecture\"] == \"Hokkaido\"]\n",
    "datetimes = hokkaido_df[\"Date\"]\n",
    "positives = hokkaido_df[\"Positive\"]"
   ]
  },
  {
   "cell_type": "code",
   "execution_count": 86,
   "metadata": {},
   "outputs": [
    {
     "data": {
      "text/plain": [
       "<BarContainer object of 480 artists>"
      ]
     },
     "execution_count": 86,
     "metadata": {},
     "output_type": "execute_result"
    },
    {
     "data": {
      "image/png": "[encoded data removed]",
      "text/plain": [
       "<Figure size 432x288 with 1 Axes>"
      ]
     },
     "metadata": {
      "needs_background": "light"
     },
     "output_type": "display_data"
    }
   ],
   "source": [
    "x = [i for i in range(len(positives))]\n",
    "# x = list(datetimes)\n",
    "y = list(positives)\n",
    "plt.bar(x, y)"
   ]
  },
  {
   "cell_type": "markdown",
   "metadata": {},
   "source": [
    "### 県庁の位置リスト作成"
   ]
  },
  {
   "cell_type": "code",
   "execution_count": 87,
   "metadata": {},
   "outputs": [],
   "source": [
    "json_open = open(\"../data/pref.json\")\n",
    "pref_json = json.load(json_open)\n",
    "pref_latlon = {}"
   ]
  },
  {
   "cell_type": "code",
   "execution_count": 88,
   "metadata": {},
   "outputs": [],
   "source": [
    "for i, pref in enumerate(pref_json[\"marker\"]):\n",
    "    en_pref_ = pref[\"url\"].split(\".\")[2]\n",
    "    en_pref = en_pref_[0].upper() + en_pref_[1:]\n",
    "#     print(en_pref)\n",
    "#     pref_json[\"marker\"][i][\"pref_en\"] = en_pref\n",
    "#     pref_latlon.append({\"pref\": en_pref, \"lat\": pref[\"lat\"], \"lon\": pref[\"lng\"]})\n",
    "    pref_latlon[en_pref] = [pref[\"lat\"], pref[\"lng\"], i]"
   ]
  },
  {
   "cell_type": "code",
   "execution_count": 89,
   "metadata": {
    "scrolled": true
   },
   "outputs": [
    {
     "data": {
      "text/plain": [
       "{'Hokkaido': [43.064301, 141.346874, 0],\n",
       " 'Aomori': [40.824622, 140.740598, 1],\n",
       " 'Iwate': [39.7036, 141.152709, 2],\n",
       " 'Miyagi': [38.268812, 140.872082, 3],\n",
       " 'Akita': [39.718611, 140.102401, 4],\n",
       " 'Yamagata': [38.240422, 140.363592, 5],\n",
       " 'Fukushima': [37.750301, 140.467522, 6],\n",
       " 'Ibaraki': [36.341793, 140.446802, 7],\n",
       " 'Tochigi': [36.566672, 139.883093, 8],\n",
       " 'Gunma': [36.390698, 139.060451, 9],\n",
       " 'Saitama': [35.857431, 139.648901, 10],\n",
       " 'Chiba': [35.605045, 140.123325, 11],\n",
       " 'Tokyo': [35.689753, 139.691731, 12],\n",
       " 'Kanagawa': [35.447495, 139.6424, 13],\n",
       " 'Niigata': [37.902419, 139.023225, 14],\n",
       " 'Toyama': [36.695275, 137.211342, 15],\n",
       " 'Ishikawa': [36.59473, 136.625582, 16],\n",
       " 'Fukui': [36.065219, 136.221682, 17],\n",
       " 'Yamanashi': [35.664161, 138.568459, 18],\n",
       " 'Nagano': [36.651296, 138.181239, 19],\n",
       " 'Gifu': [35.391228, 136.722311, 20],\n",
       " 'Shizuoka': [34.976944, 138.383009, 21],\n",
       " 'Aichi': [35.180344, 136.906632, 22],\n",
       " 'Mie': [34.730272, 136.508598, 23],\n",
       " 'Shiga': [35.004528, 135.868607, 24],\n",
       " 'Kyoto': [35.021393, 135.755439, 25],\n",
       " 'Osaka': [34.686555, 135.519474, 26],\n",
       " 'Hyogo': [34.691287, 135.183061, 27],\n",
       " 'Nara': [34.685326, 135.832751, 28],\n",
       " 'Wakayama': [34.226041, 135.167504, 29],\n",
       " 'Tottori': [35.503867, 134.237716, 30],\n",
       " 'Shimane': [35.472324, 133.05052, 31],\n",
       " 'Okayama': [34.661759, 133.934399, 32],\n",
       " 'Hiroshima': [34.396603, 132.459621, 33],\n",
       " 'Yamaguchi': [34.18613, 131.470497, 34],\n",
       " 'Tokushima': [34.065756, 134.559297, 35],\n",
       " 'Kagawa': [34.340045, 134.043369, 36],\n",
       " 'Ehime': [33.841669, 132.765371, 37],\n",
       " 'Kochi': [33.5597, 133.531096, 38],\n",
       " 'Fukuoka': [33.606781, 130.418307, 39],\n",
       " 'Saga': [33.24957, 130.299804, 40],\n",
       " 'Nagasaki': [32.744814, 129.8737, 41],\n",
       " 'Kumamoto': [32.789816, 130.74169, 42],\n",
       " 'Oita': [33.238205, 131.612625, 43],\n",
       " 'Miyazaki': [31.911058, 131.423883, 44],\n",
       " 'Kagoshima': [31.560166, 130.557994, 45],\n",
       " 'Okinawa': [26.212418, 127.680895, 46]}"
      ]
     },
     "execution_count": 89,
     "metadata": {},
     "output_type": "execute_result"
    }
   ],
   "source": [
    "pref_latlon"
   ]
  },
  {
   "cell_type": "markdown",
   "metadata": {},
   "source": [
    "### Harmoware-visで可視化"
   ]
  },
  {
   "cell_type": "code",
   "execution_count": 104,
   "metadata": {},
   "outputs": [],
   "source": [
    "dates = df[\"Date\"]\n",
    "prefectures = df[\"Prefecture\"]\n",
    "positives = df[\"Positive\"]\n",
    "testeds = df[\"Tested\"]\n",
    "dischs = df[\"Discharged\"]\n",
    "fatals = df[\"Fatal\"]\n",
    "\n",
    "new_positives = []#新規感染者数\n",
    "for i in range(len(positives)):\n",
    "    if i//47 == 0:\n",
    "        new_positives.append(positives[i])\n",
    "        continue\n",
    "    new_positives.append(positives[i] - positives[i-47])"
   ]
  },
  {
   "cell_type": "code",
   "execution_count": 102,
   "metadata": {},
   "outputs": [],
   "source": [
    "#全データ表示\n",
    "values = []\n",
    "for p, t, d, f in zip(positives, testeds, dischs, fatals):\n",
    "    values.append([p,t,d,f])"
   ]
  },
  {
   "cell_type": "code",
   "execution_count": 109,
   "metadata": {},
   "outputs": [],
   "source": [
    "#特定のデータのみ\n",
    "values = []\n",
    "for v in new_positives:\n",
    "    values.append([v])"
   ]
  },
  {
   "cell_type": "code",
   "execution_count": 110,
   "metadata": {},
   "outputs": [],
   "source": [
    "def date_to_timestamp(date):\n",
    "    l = list(map(int, date.split(\"-\")))\n",
    "    return datetime.datetime(l[0], l[1], l[2], 0,0,0).timestamp()\n",
    "\n",
    "def date_to_dt(date):\n",
    "    l = list(map(int, date.split(\"-\")))\n",
    "    return datetime.datetime(l[0], l[1], l[2], 0,0,0)"
   ]
  },
  {
   "cell_type": "markdown",
   "metadata": {},
   "source": [
    "#### 棒グラフ"
   ]
  },
  {
   "cell_type": "code",
   "execution_count": 111,
   "metadata": {
    "scrolled": true
   },
   "outputs": [
    {
     "data": {
      "text/plain": [
       "Response(ok=False, err='')"
      ]
     },
     "execution_count": 111,
     "metadata": {},
     "output_type": "execute_result"
    }
   ],
   "source": [
    "#add bar(initialize)\n",
    "start_ts = date_to_dt(dates[0])\n",
    "bars = sx.BGStore()\n",
    "for pref in pref_latlon:\n",
    "    lat = pref_latlon[pref][0]\n",
    "    lon = pref_latlon[pref][1]\n",
    "    pref_id = pref_latlon[pref][2]\n",
    "    bars.addBarData(ts = start_ts, label = pref, lat = lat, lon = lon, barData = [0])\n",
    "await sx.sendBarGraphsAx(bars)"
   ]
  },
  {
   "cell_type": "code",
   "execution_count": 112,
   "metadata": {
    "scrolled": true
   },
   "outputs": [],
   "source": [
    "#update bar\n",
    "before_ts = start_ts\n",
    "dt = start_ts\n",
    "day_values = []\n",
    "for date, prefecture, value in zip(dates, prefectures, values):\n",
    "    ts = date_to_dt(date)\n",
    "    day_values += value\n",
    "    if ts != before_ts:\n",
    "        before_ts = ts\n",
    "        day_values = []\n",
    "        dt += datetime.timedelta(seconds = 1)\n",
    "        await sx.sendBarGraphsAx(bars)\n",
    "        \n",
    "    bars.updateBarData(pref_latlon[prefecture][2], before_ts, pref_latlon[prefecture][0], pref_latlon[prefecture][1], value)"
   ]
  },
  {
   "cell_type": "code",
   "execution_count": null,
   "metadata": {},
   "outputs": [],
   "source": []
  }
 ],
 "metadata": {
  "kernelspec": {
   "display_name": "Python 3",
   "language": "python",
   "name": "python3"
  },
  "language_info": {
   "codemirror_mode": {
    "name": "ipython",
    "version": 3
   },
   "file_extension": ".py",
   "mimetype": "text/x-python",
   "name": "python",
   "nbconvert_exporter": "python",
   "pygments_lexer": "ipython3",
   "version": "3.8.1"
  }
 },
 "nbformat": 4,
 "nbformat_minor": 4
}
